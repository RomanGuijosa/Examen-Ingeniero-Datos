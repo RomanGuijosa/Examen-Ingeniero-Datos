{
  "cells": [
    {
      "cell_type": "code",
      "execution_count": 1,
      "metadata": {
        "colab": {
          "base_uri": "https://localhost:8080/"
        },
        "id": "KiAnbtkv-AK5",
        "outputId": "b6b52d4f-0509-4d6b-f405-622eebc78be8"
      },
      "outputs": [
        {
          "name": "stderr",
          "output_type": "stream",
          "text": [
            "El sistema no puede encontrar la ruta especificada.\n",
            "\"wget\" no se reconoce como un comando interno o externo,\n",
            "programa o archivo por lotes ejecutable.\n",
            "tar: Error opening archive: Failed to open 'spark-3.0.1-bin-hadoop2.7.tgz'\n"
          ]
        },
        {
          "name": "stdout",
          "output_type": "stream",
          "text": [
            "Requirement already satisfied: pyspark in c:\\users\\roman.guijosa\\appdata\\local\\programs\\python\\python312\\lib\\site-packages (3.5.0)\n",
            "Requirement already satisfied: py4j==0.10.9.7 in c:\\users\\roman.guijosa\\appdata\\local\\programs\\python\\python312\\lib\\site-packages (from pyspark) (0.10.9.7)\n"
          ]
        },
        {
          "name": "stderr",
          "output_type": "stream",
          "text": [
            "\n",
            "[notice] A new release of pip is available: 23.2.1 -> 24.2\n",
            "[notice] To update, run: python.exe -m pip install --upgrade pip\n",
            "\n",
            "[notice] A new release of pip is available: 23.2.1 -> 24.2\n",
            "[notice] To update, run: python.exe -m pip install --upgrade pip\n"
          ]
        }
      ],
      "source": [
        "!apt-get install openjdk-8-jdk-headless -qq > /dev/null\n",
        "\n",
        "!wget -q https://www-us.apache.org/dist/spark/spark-3.0.1/spark-3.0.1-bin-hadoop2.7.tgz\n",
        "\n",
        "!tar -xvf spark-3.0.1-bin-hadoop2.7.tgz\n",
        "\n",
        "!pip install pyspark\n",
        "\n",
        "!pip install -U -q PyDrive"
      ]
    },
    {
      "cell_type": "code",
      "execution_count": 2,
      "metadata": {
        "colab": {
          "base_uri": "https://localhost:8080/"
        },
        "id": "4idYpyUTiwJX",
        "outputId": "80b8bdb2-76d6-45de-e8d7-6b2696483c80"
      },
      "outputs": [
        {
          "name": "stdout",
          "output_type": "stream",
          "text": [
            "Proceso ETL completado.\n"
          ]
        }
      ],
      "source": [
        "import requests\n",
        "import json\n",
        "import csv\n",
        "import os\n",
        "\n",
        "# Ruta base para guardar archivos\n",
        "base_path = r\"C:\\Users\\roman.guijosa\\Desktop\\asdas\"\n",
        "\n",
        "# Función para obtener los datos del endpoint\n",
        "def fetch_pokemon_data(pokemon_id):\n",
        "    url = f\"https://pokeapi.co/api/v2/pokemon/{pokemon_id}\"\n",
        "    response = requests.get(url)\n",
        "    return response.json()\n",
        "\n",
        "# Función para guardar datos en archivos .json\n",
        "def save_json(data, filename):\n",
        "    with open(filename, 'w') as json_file:\n",
        "        json.dump(data, json_file, indent=4)\n",
        "\n",
        "# Función para transformar datos JSON a CSV\n",
        "def json_to_csv(json_data, csv_filename):\n",
        "    with open(csv_filename, 'w', newline='') as csv_file:\n",
        "        csv_writer = csv.writer(csv_file)\n",
        "        # Escribir encabezados\n",
        "        headers = json_data.keys()\n",
        "        csv_writer.writerow(headers)\n",
        "        # Escribir datos\n",
        "        csv_writer.writerow(json_data.values())\n",
        "\n",
        "# Función para proceso ETL\n",
        "for i in range(1, 501):\n",
        "    pokemon_data = fetch_pokemon_data(i)\n",
        "    json_filename = os.path.join(base_path, f\"pokemon_{i}.json\")\n",
        "    csv_filename = os.path.join(base_path, f\"pokemon_{i}.csv\")\n",
        "\n",
        "    save_json(pokemon_data, json_filename)\n",
        "    json_to_csv(pokemon_data, csv_filename)\n",
        "\n",
        "print(\"Proceso ETL completado.\")\n",
        "\n",
        "\n"
      ]
    }
  ],
  "metadata": {
    "colab": {
      "provenance": []
    },
    "kernelspec": {
      "display_name": "Python 3",
      "name": "python3"
    },
    "language_info": {
      "codemirror_mode": {
        "name": "ipython",
        "version": 3
      },
      "file_extension": ".py",
      "mimetype": "text/x-python",
      "name": "python",
      "nbconvert_exporter": "python",
      "pygments_lexer": "ipython3",
      "version": "3.12.0"
    }
  },
  "nbformat": 4,
  "nbformat_minor": 0
}
